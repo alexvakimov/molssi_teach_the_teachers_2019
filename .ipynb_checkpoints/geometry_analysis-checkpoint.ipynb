{
 "cells": [
  {
   "cell_type": "markdown",
   "metadata": {},
   "source": [
    "## Geometry Analysis"
   ]
  },
  {
   "cell_type": "code",
   "execution_count": 1,
   "metadata": {},
   "outputs": [],
   "source": [
    "import numpy\n",
    "import os"
   ]
  },
  {
   "cell_type": "code",
   "execution_count": 10,
   "metadata": {},
   "outputs": [
    {
     "name": "stdout",
     "output_type": "stream",
     "text": [
      "O to H1 : 0.969\n",
      "O to H2 : 0.969\n"
     ]
    }
   ],
   "source": [
    "file_location = os.path.join('data', 'water.xyz')\n",
    "xyz_file = numpy.genfromtxt(fname=file_location, skip_header=2,  dtype='unicode')\n",
    "\n",
    "symbols = xyz_file[:, 0]\n",
    "coordinates = xyz_file[:, 1:]\n",
    "coordinates = coordinates.astype(numpy.float)\n",
    "\n",
    "num_atoms = len(symbols)\n",
    "\n",
    "for num1 in range(0, num_atoms):\n",
    "    for num2 in range(0, num_atoms):\n",
    "        if num1 < num2:\n",
    "            x_distance = coordinates[num1,0] - coordinates[num2,0]\n",
    "            y_distance = coordinates[num1,1] - coordinates[num2,1]\n",
    "            z_distance = coordinates[num1,2] - coordinates[num2,2]\n",
    "        \n",
    "            bond_length_12 = numpy.sqrt(x_distance**2 + y_distance**2 + z_distance**2)\n",
    "            if bond_length_12 > 0 and bond_length_12 < 1.5:\n",
    "                print(F\"{symbols[num1]} to {symbols[num2]} : {bond_length_12:.3f}\")\n",
    "            "
   ]
  },
  {
   "cell_type": "code",
   "execution_count": 11,
   "metadata": {},
   "outputs": [],
   "source": [
    "#def function_name(parameters):\n",
    "#    function code goes\n",
    "#    this could be multiple lines\n",
    "#    return value_to_return    \n"
   ]
  },
  {
   "cell_type": "markdown",
   "metadata": {},
   "source": [
    "The key - is not to think about where the data actually come from\n",
    "\n",
    "The simplest way to write a function!"
   ]
  },
  {
   "cell_type": "code",
   "execution_count": 21,
   "metadata": {},
   "outputs": [],
   "source": [
    "def calculate_distance(atom1_coord, atom2_coord):\n",
    "    \"\"\"\n",
    "    This function takes the coordinates of two atoms \n",
    "    Inputs: atom1 coord, atom2 coord\n",
    "    Return: distance\n",
    "    \"\"\"\n",
    "    x_distance = atom1_coord[0] - atom2_coord[0]\n",
    "    y_distance = atom1_coord[1] - atom2_coord[1]\n",
    "    z_distance = atom1_coord[2] - atom2_coord[2]    \n",
    "    distance = numpy.sqrt(x_distance**2 + y_distance**2 + z_distance**2)\n",
    "    return distance\n"
   ]
  },
  {
   "cell_type": "code",
   "execution_count": 19,
   "metadata": {},
   "outputs": [
    {
     "name": "stdout",
     "output_type": "stream",
     "text": [
      "O to H1 : 0.969\n",
      "O to H2 : 0.969\n"
     ]
    }
   ],
   "source": [
    "num_atoms = len(symbols)\n",
    "\n",
    "for num1 in range(0, num_atoms):\n",
    "    for num2 in range(0, num_atoms):\n",
    "        if num1 < num2:\n",
    "                    \n",
    "            bond_length_12 = calculate_distance(coordinates[num1], coordinates[num2])\n",
    "            if bond_length_12 > 0 and bond_length_12 < 1.5:\n",
    "                print(F\"{symbols[num1]} to {symbols[num2]} : {bond_length_12:.3f}\")"
   ]
  },
  {
   "cell_type": "code",
   "execution_count": 22,
   "metadata": {},
   "outputs": [
    {
     "name": "stdout",
     "output_type": "stream",
     "text": [
      "Help on function calculate_distance in module __main__:\n",
      "\n",
      "calculate_distance(atom1_coord, atom2_coord)\n",
      "    This function takes the coordinates of two atoms \n",
      "    Inputs: atom1 coord, atom2 coord\n",
      "    Return: distance\n",
      "\n"
     ]
    }
   ],
   "source": [
    "help(calculate_distance)"
   ]
  },
  {
   "cell_type": "code",
   "execution_count": 23,
   "metadata": {},
   "outputs": [],
   "source": [
    "# Write a new function called bond_check.\n",
    "# Check and see if a distance is between 0 and 1.5 Angstroms\n",
    "# Return: True or False"
   ]
  },
  {
   "cell_type": "code",
   "execution_count": 24,
   "metadata": {},
   "outputs": [],
   "source": [
    "def bond_check(distance):\n",
    "    \"\"\"\n",
    "    This function checks if a distance is between 0 and 1.5 Angstroms\n",
    "    Inputs: distance [Ansgstrom]    \n",
    "    Returns: True or False\n",
    "    \n",
    "    \"\"\"\n",
    "    res = False\n",
    "    if distance < 1.5 and distance > 0.0:\n",
    "        res = True\n",
    "    return res\n"
   ]
  },
  {
   "cell_type": "code",
   "execution_count": 26,
   "metadata": {},
   "outputs": [
    {
     "name": "stdout",
     "output_type": "stream",
     "text": [
      "False\n",
      "True\n",
      "False\n"
     ]
    }
   ],
   "source": [
    "print(bond_check(4))\n",
    "print(bond_check(1.2))\n",
    "print(bond_check(-1))\n"
   ]
  },
  {
   "cell_type": "code",
   "execution_count": 27,
   "metadata": {},
   "outputs": [],
   "source": [
    "def bond_check(distance, min_length, max_length):\n",
    "    \"\"\"\n",
    "    This function checks if a distance is between the specified\n",
    "    min and max values\n",
    "    Inputs: distance [Ansgstrom], min and max limits\n",
    "    Returns: True or False\n",
    "    \n",
    "    \"\"\"\n",
    "    res = False\n",
    "    if distance < max_length and distance > min_length:\n",
    "        res = True\n",
    "    return res\n"
   ]
  },
  {
   "cell_type": "code",
   "execution_count": 30,
   "metadata": {},
   "outputs": [
    {
     "name": "stdout",
     "output_type": "stream",
     "text": [
      "False\n",
      "True\n"
     ]
    }
   ],
   "source": [
    "print(bond_check(5.0, 0.0, 1.6))\n",
    "print(bond_check(1.5, 0.0, 1.6))"
   ]
  },
  {
   "cell_type": "code",
   "execution_count": 31,
   "metadata": {},
   "outputs": [],
   "source": [
    "def bond_check(distance, min_length=0.0, max_length=1.5):\n",
    "    \"\"\"\n",
    "    This function checks if a distance is between the specified\n",
    "    min (default: 0.0 Angstrom) and max (default: 1.5 Angstrom) values\n",
    "    Inputs: distance [Ansgstrom], min and max limits\n",
    "    Returns: True or False\n",
    "    \n",
    "    \"\"\"\n",
    "    res = False\n",
    "    if distance < max_length and distance > min_length:\n",
    "        res = True\n",
    "    return res\n"
   ]
  },
  {
   "cell_type": "code",
   "execution_count": 33,
   "metadata": {},
   "outputs": [
    {
     "name": "stdout",
     "output_type": "stream",
     "text": [
      "False\n",
      "True\n"
     ]
    }
   ],
   "source": [
    "print(bond_check(1.5))\n",
    "print(bond_check(1.5, max_length = 1.6))"
   ]
  },
  {
   "cell_type": "code",
   "execution_count": 34,
   "metadata": {},
   "outputs": [
    {
     "name": "stdout",
     "output_type": "stream",
     "text": [
      "Help on function bond_check in module __main__:\n",
      "\n",
      "bond_check(distance, min_length=0.0, max_length=1.5)\n",
      "    This function checks if a distance is between the specified\n",
      "    min (default: 0.0 Angstrom) and max (default: 1.5 Angstrom) values\n",
      "    Inputs: distance [Ansgstrom], min and max limits\n",
      "    Returns: True or False\n",
      "\n"
     ]
    }
   ],
   "source": [
    "help(bond_check)"
   ]
  },
  {
   "cell_type": "code",
   "execution_count": 35,
   "metadata": {},
   "outputs": [
    {
     "name": "stdout",
     "output_type": "stream",
     "text": [
      "O to H1 : 0.969\n",
      "O to H2 : 0.969\n"
     ]
    }
   ],
   "source": [
    "num_atoms = len(symbols)\n",
    "\n",
    "for num1 in range(0, num_atoms):\n",
    "    for num2 in range(0, num_atoms):\n",
    "        if num1 < num2:\n",
    "                    \n",
    "            bond_length_12 = calculate_distance(coordinates[num1], coordinates[num2])\n",
    "            if bond_check(bond_length_12) is True:\n",
    "                print(F\"{symbols[num1]} to {symbols[num2]} : {bond_length_12:.3f}\")"
   ]
  },
  {
   "cell_type": "code",
   "execution_count": 36,
   "metadata": {},
   "outputs": [],
   "source": [
    "# Write a function that reads in and processes an xyz file\n",
    "# Function name: open_xyz\n",
    "# Inputs: filename\n",
    "# Two outputs: symbols, coords (as numpy array)\n",
    "\n",
    "def open_xyz(filename):\n",
    "    \"\"\"\n",
    "    A function that reads in and processes an xyz file    \n",
    "    Inputs: filename\n",
    "    Outputs: symbols, coords (as numpy array)\n",
    "    \"\"\"\n",
    "        \n",
    "    xyz_file = numpy.genfromtxt(fname=filename, skip_header=2,  dtype='unicode')\n",
    "\n",
    "    symbols = xyz_file[:, 0]\n",
    "    coordinates = xyz_file[:, 1:]\n",
    "    coordinates = coordinates.astype(numpy.float)\n",
    "    \n",
    "    return symbols, coordinates    "
   ]
  },
  {
   "cell_type": "code",
   "execution_count": 37,
   "metadata": {},
   "outputs": [
    {
     "data": {
      "text/plain": [
       "(array(['O', 'H1', 'H2'], dtype='<U9'),\n",
       " array([[ 0.      , -0.007156,  0.965491],\n",
       "        [-0.      ,  0.001486, -0.003471],\n",
       "        [ 0.      ,  0.931026,  1.207929]]))"
      ]
     },
     "execution_count": 37,
     "metadata": {},
     "output_type": "execute_result"
    }
   ],
   "source": [
    "file_location = os.path.join('data', 'water.xyz')\n",
    "open_xyz(file_location)"
   ]
  },
  {
   "cell_type": "code",
   "execution_count": 38,
   "metadata": {},
   "outputs": [
    {
     "data": {
      "text/plain": [
       "(array(['C', 'H', 'C', 'H', 'C', 'H', 'C', 'H', 'C', 'H', 'C', 'H'],\n",
       "       dtype='<U8'), array([[ 0.     ,  1.40272,  0.     ],\n",
       "        [ 0.     ,  2.49029,  0.     ],\n",
       "        [-1.21479,  0.70136,  0.     ],\n",
       "        [-2.15666,  1.24515,  0.     ],\n",
       "        [-1.21479, -0.70136,  0.     ],\n",
       "        [-2.15666, -1.24515,  0.     ],\n",
       "        [ 0.     , -1.40272,  0.     ],\n",
       "        [ 0.     , -2.49029,  0.     ],\n",
       "        [ 1.21479, -0.70136,  0.     ],\n",
       "        [ 2.15666, -1.24515,  0.     ],\n",
       "        [ 1.21479,  0.70136,  0.     ],\n",
       "        [ 2.15666,  1.24515,  0.     ]]))"
      ]
     },
     "execution_count": 38,
     "metadata": {},
     "output_type": "execute_result"
    }
   ],
   "source": [
    "file_location = os.path.join('data', 'benzene.xyz')\n",
    "open_xyz(file_location)"
   ]
  },
  {
   "cell_type": "code",
   "execution_count": 39,
   "metadata": {},
   "outputs": [
    {
     "name": "stdout",
     "output_type": "stream",
     "text": [
      "O to H1 : 0.969\n",
      "O to H2 : 0.969\n"
     ]
    }
   ],
   "source": [
    "import numpy\n",
    "import os\n",
    "\n",
    "def open_xyz(filename):\n",
    "    \"\"\"\n",
    "    A function that reads in and processes an xyz file    \n",
    "    Inputs: filename\n",
    "    Outputs: symbols, coords (as numpy array)\n",
    "    \"\"\"\n",
    "        \n",
    "    xyz_file = numpy.genfromtxt(fname=filename, skip_header=2,  dtype='unicode')\n",
    "\n",
    "    symbols = xyz_file[:, 0]\n",
    "    coordinates = xyz_file[:, 1:]\n",
    "    coordinates = coordinates.astype(numpy.float)\n",
    "    \n",
    "    return symbols, coordinates   \n",
    "\n",
    "\n",
    "def bond_check(distance, min_length=0.0, max_length=1.5):\n",
    "    \"\"\"\n",
    "    This function checks if a distance is between the specified\n",
    "    min (default: 0.0 Angstrom) and max (default: 1.5 Angstrom) values\n",
    "    Inputs: distance [Ansgstrom], min and max limits\n",
    "    Returns: True or False\n",
    "    \n",
    "    \"\"\"\n",
    "    res = False\n",
    "    if distance < max_length and distance > min_length:\n",
    "        res = True\n",
    "    return res\n",
    "\n",
    "def calculate_distance(atom1_coord, atom2_coord):\n",
    "    \"\"\"\n",
    "    This function takes the coordinates of two atoms \n",
    "    Inputs: atom1 coord, atom2 coord\n",
    "    Return: distance\n",
    "    \"\"\"\n",
    "    x_distance = atom1_coord[0] - atom2_coord[0]\n",
    "    y_distance = atom1_coord[1] - atom2_coord[1]\n",
    "    z_distance = atom1_coord[2] - atom2_coord[2]    \n",
    "    distance = numpy.sqrt(x_distance**2 + y_distance**2 + z_distance**2)\n",
    "    return distance\n",
    "\n",
    "\n",
    "\n",
    "file_location = os.path.join('data', 'water.xyz')\n",
    "symbols, coord = open_xyz(file_location)\n",
    "num_atoms = len(symbols)\n",
    "\n",
    "for num1 in range(0, num_atoms):\n",
    "    for num2 in range(0, num_atoms):\n",
    "        if num1 < num2:\n",
    "                    \n",
    "            bond_length_12 = calculate_distance(coord[num1], coord[num2])\n",
    "            if bond_check(bond_length_12) is True:\n",
    "                print(F\"{symbols[num1]} to {symbols[num2]} : {bond_length_12:.3f}\")"
   ]
  },
  {
   "cell_type": "code",
   "execution_count": null,
   "metadata": {},
   "outputs": [],
   "source": []
  }
 ],
 "metadata": {
  "kernelspec": {
   "display_name": "Python 3",
   "language": "python",
   "name": "python3"
  },
  "language_info": {
   "codemirror_mode": {
    "name": "ipython",
    "version": 3
   },
   "file_extension": ".py",
   "mimetype": "text/x-python",
   "name": "python",
   "nbconvert_exporter": "python",
   "pygments_lexer": "ipython3",
   "version": "3.7.3"
  }
 },
 "nbformat": 4,
 "nbformat_minor": 2
}
