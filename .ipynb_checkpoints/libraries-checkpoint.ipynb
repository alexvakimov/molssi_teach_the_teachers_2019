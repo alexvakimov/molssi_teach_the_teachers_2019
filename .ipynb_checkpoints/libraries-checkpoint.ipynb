{
 "cells": [
  {
   "cell_type": "markdown",
   "metadata": {},
   "source": [
    "## import library_name\n",
    "## output = library_name.function_name(input)"
   ]
  },
  {
   "cell_type": "code",
   "execution_count": 8,
   "metadata": {},
   "outputs": [
    {
     "data": {
      "text/plain": [
       "'C:\\\\Users\\\\Alexey-user\\\\Desktop\\\\cms-workshop'"
      ]
     },
     "execution_count": 8,
     "metadata": {},
     "output_type": "execute_result"
    }
   ],
   "source": [
    "pwd"
   ]
  },
  {
   "cell_type": "code",
   "execution_count": 3,
   "metadata": {},
   "outputs": [
    {
     "name": "stdout",
     "output_type": "stream",
     "text": [
      " Volume in drive C is Acer\n",
      " Volume Serial Number is FA4D-12A1\n",
      "\n",
      " Directory of C:\\Users\\Alexey-user\\Desktop\\cms-workshop\n",
      "\n",
      "08/08/2019  02:18 PM    <DIR>          .\n",
      "08/08/2019  02:18 PM    <DIR>          ..\n",
      "08/08/2019  02:16 PM    <DIR>          .ipynb_checkpoints\n",
      "08/08/2019  01:30 PM                 0 bond_lengths.txt\n",
      "08/07/2019  08:25 PM    <DIR>          data\n",
      "08/07/2019  03:43 PM           191,618 data.zip\n",
      "08/08/2019  10:54 AM             7,052 day1.ipynb\n",
      "08/08/2019  09:55 AM    <DIR>          Info\n",
      "08/08/2019  02:18 PM               715 libraries.ipynb\n",
      "08/08/2019  01:30 PM            16,412 Tabular_data.ipynb\n",
      "08/08/2019  02:16 PM            19,703 writing-files.ipynb\n",
      "               6 File(s)        235,500 bytes\n",
      "               5 Dir(s)  23,625,584,640 bytes free\n"
     ]
    }
   ],
   "source": [
    "ls"
   ]
  },
  {
   "cell_type": "code",
   "execution_count": 4,
   "metadata": {},
   "outputs": [
    {
     "name": "stdout",
     "output_type": "stream",
     "text": [
      " Volume in drive C is Acer\n",
      " Volume Serial Number is FA4D-12A1\n",
      "\n",
      " Directory of C:\\Users\\Alexey-user\\Desktop\\cms-workshop\\data\n",
      "\n",
      "08/07/2019  08:25 PM    <DIR>          .\n",
      "08/07/2019  08:25 PM    <DIR>          ..\n",
      "08/07/2019  08:25 PM    <DIR>          .ipynb_checkpoints\n",
      "05/08/2019  12:20 PM               619 benzene.xyz\n",
      "05/08/2019  12:18 PM             2,471 buckminsterfullerene.xyz\n",
      "02/19/2019  10:37 AM           355,359 distance_data_headers.csv\n",
      "08/07/2019  08:25 PM                72 my_file1.ipynb\n",
      "08/07/2019  08:24 PM    <DIR>          outfiles\n",
      "02/19/2019  10:29 AM            61,568 sapt.out\n",
      "01/29/2019  04:02 PM               155 water.xyz\n",
      "               6 File(s)        420,244 bytes\n",
      "               4 Dir(s)  23,625,592,832 bytes free\n"
     ]
    }
   ],
   "source": [
    "ls data"
   ]
  },
  {
   "cell_type": "code",
   "execution_count": 6,
   "metadata": {},
   "outputs": [
    {
     "name": "stdout",
     "output_type": "stream",
     "text": [
      " Volume in drive C is Acer\n",
      " Volume Serial Number is FA4D-12A1\n",
      "\n",
      " Directory of C:\\Users\\Alexey-user\\Desktop\\cms-workshop\\data\\outfiles\n",
      "\n",
      "08/07/2019  08:24 PM    <DIR>          .\n",
      "08/07/2019  08:24 PM    <DIR>          ..\n",
      "01/18/2019  03:11 PM            12,750 butanol.out\n",
      "01/18/2019  03:11 PM            18,728 decanol.out\n",
      "01/18/2019  03:11 PM            10,639 ethanol.out\n",
      "01/18/2019  03:11 PM            15,770 heptanol.out\n",
      "01/18/2019  03:11 PM            14,767 hexanol.out\n",
      "01/18/2019  03:11 PM             9,719 methanol.out\n",
      "01/18/2019  03:11 PM            17,727 nonanol.out\n",
      "01/18/2019  03:11 PM            16,788 octanol.out\n",
      "01/18/2019  03:11 PM            13,762 pentanol.out\n",
      "01/18/2019  03:11 PM            11,710 propanol.out\n",
      "              10 File(s)        142,360 bytes\n",
      "               2 Dir(s)  23,625,592,832 bytes free\n"
     ]
    }
   ],
   "source": [
    "ls \"data/outfiles\""
   ]
  },
  {
   "cell_type": "code",
   "execution_count": 9,
   "metadata": {},
   "outputs": [],
   "source": [
    "import os \n",
    "\n",
    "outfile_directory = os.path.join(\"data\", \"outfiles\")"
   ]
  },
  {
   "cell_type": "code",
   "execution_count": 12,
   "metadata": {},
   "outputs": [
    {
     "name": "stdout",
     "output_type": "stream",
     "text": [
      "data\\outfiles\n"
     ]
    }
   ],
   "source": [
    "print(outfile_directory)"
   ]
  },
  {
   "cell_type": "code",
   "execution_count": 13,
   "metadata": {},
   "outputs": [],
   "source": [
    "#file_location = os.path.join(\"data\", \"outfiles\", \"*.out\")\n",
    "file_location = os.path.join(outfile_directory, \"*.out\")"
   ]
  },
  {
   "cell_type": "code",
   "execution_count": 14,
   "metadata": {},
   "outputs": [
    {
     "name": "stdout",
     "output_type": "stream",
     "text": [
      "data\\outfiles\\*.out\n"
     ]
    }
   ],
   "source": [
    "print(file_location)"
   ]
  },
  {
   "cell_type": "code",
   "execution_count": 17,
   "metadata": {},
   "outputs": [
    {
     "name": "stdout",
     "output_type": "stream",
     "text": [
      "['data\\\\outfiles\\\\butanol.out', 'data\\\\outfiles\\\\decanol.out', 'data\\\\outfiles\\\\ethanol.out', 'data\\\\outfiles\\\\heptanol.out', 'data\\\\outfiles\\\\hexanol.out', 'data\\\\outfiles\\\\methanol.out', 'data\\\\outfiles\\\\nonanol.out', 'data\\\\outfiles\\\\octanol.out', 'data\\\\outfiles\\\\pentanol.out', 'data\\\\outfiles\\\\propanol.out']\n"
     ]
    }
   ],
   "source": [
    "import glob\n",
    "\n",
    "filenames = glob.glob(file_location)\n",
    "print(filenames)"
   ]
  },
  {
   "cell_type": "code",
   "execution_count": 29,
   "metadata": {},
   "outputs": [
    {
     "name": "stdout",
     "output_type": "stream",
     "text": [
      "[-232.1655798347283, -466.3836241400086, -154.09130176573018, -349.27397687072676, -310.2385332251633, -115.04800861868374, -427.3465180082815, -388.3110864554743, -271.20138119895074, -193.12836249728798]\n",
      "['butanol', 'decanol', 'ethanol', 'heptanol', 'hexanol', 'methanol', 'nonanol', 'octanol', 'pentanol', 'propanol']\n",
      "Molecule = butanol  Energy = -232.1655798347283\n",
      "Molecule = decanol  Energy = -466.3836241400086\n",
      "Molecule = ethanol  Energy = -154.09130176573018\n",
      "Molecule = heptanol  Energy = -349.27397687072676\n",
      "Molecule = hexanol  Energy = -310.2385332251633\n",
      "Molecule = methanol  Energy = -115.04800861868374\n",
      "Molecule = nonanol  Energy = -427.3465180082815\n",
      "Molecule = octanol  Energy = -388.3110864554743\n",
      "Molecule = pentanol  Energy = -271.20138119895074\n",
      "Molecule = propanol  Energy = -193.12836249728798\n"
     ]
    }
   ],
   "source": [
    "energy = []\n",
    "mol_names = []\n",
    "\n",
    "for f in filenames:\n",
    "    \n",
    "    molecule_name = f.split(\"\\\\\")[2].split(\".\")[0]    \n",
    "    mol_names.append(molecule_name)\n",
    "\n",
    "    outfile = open(f, \"r\")\n",
    "    data = outfile.readlines()\n",
    "    outfile.close()\n",
    "    \n",
    "    for linenum, line in enumerate(data):\n",
    "        if \"Final Energy\" in line:\n",
    "            tmp = line.split()\n",
    "            \n",
    "            energy.append(float(tmp[3]))\n",
    "\n",
    "print(energy)\n",
    "print(mol_names)\n",
    "\n",
    "sz = len(energy)\n",
    "\n",
    "for i in range(sz):\n",
    "    print(F\"Molecule = {mol_names[i]}  Energy = {energy[i]}\")"
   ]
  },
  {
   "cell_type": "code",
   "execution_count": 19,
   "metadata": {},
   "outputs": [
    {
     "name": "stdout",
     "output_type": "stream",
     "text": [
      "data\\outfiles\\butanol.out\n"
     ]
    }
   ],
   "source": [
    "print(filenames[0])"
   ]
  },
  {
   "cell_type": "code",
   "execution_count": 26,
   "metadata": {},
   "outputs": [
    {
     "name": "stdout",
     "output_type": "stream",
     "text": [
      "butanol\n"
     ]
    }
   ],
   "source": [
    "molecule_name = filenames[0].split(\"\\\\\")\n",
    "print(molecule_name[2].split(\".\")[0])"
   ]
  },
  {
   "cell_type": "code",
   "execution_count": 34,
   "metadata": {},
   "outputs": [],
   "source": [
    "f = open(\"energies.txt\", \"w+\")\n",
    "\n",
    "for i in range(sz):\n",
    "    f.write(F\"Molecule = {mol_names[i]} \\t  Energy = {energy[i]:8.5f}\\n\")    \n",
    "f.close()"
   ]
  },
  {
   "cell_type": "code",
   "execution_count": null,
   "metadata": {},
   "outputs": [],
   "source": []
  }
 ],
 "metadata": {
  "kernelspec": {
   "display_name": "Python 3",
   "language": "python",
   "name": "python3"
  },
  "language_info": {
   "codemirror_mode": {
    "name": "ipython",
    "version": 3
   },
   "file_extension": ".py",
   "mimetype": "text/x-python",
   "name": "python",
   "nbconvert_exporter": "python",
   "pygments_lexer": "ipython3",
   "version": "3.7.3"
  }
 },
 "nbformat": 4,
 "nbformat_minor": 2
}
