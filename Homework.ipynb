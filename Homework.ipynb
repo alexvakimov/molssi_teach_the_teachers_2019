{
 "cells": [
  {
   "cell_type": "code",
   "execution_count": 15,
   "metadata": {},
   "outputs": [
    {
     "name": "stdout",
     "output_type": "stream",
     "text": [
      "O to H1 : 0.969\n",
      "O to H2 : 0.969\n",
      "H1 to O : 0.969\n",
      "H1 to H2 : 1.527\n",
      "H2 to O : 0.969\n",
      "H2 to H1 : 1.527\n"
     ]
    }
   ],
   "source": [
    "import os\n",
    "import numpy\n",
    "\n",
    "def compute_dist(Ri, Rj):\n",
    "    \"\"\"\n",
    "    Computes distance between 2 vectors\n",
    "    \n",
    "    Ri (list of 3)\n",
    "    Rj (list of 3)    \n",
    "    \"\"\"\n",
    "    \n",
    "    r2 = 0.0\n",
    "    for proj in [0, 1, 2]:\n",
    "        r2 += (Ri[proj] - Rj[proj])**2        \n",
    "                        \n",
    "    return numpy.sqrt(r2)\n",
    "\n",
    "\n",
    "\n",
    "def analyze_file(filename, outfile=None, cutoff=1.5, remove_duplicates=True):\n",
    "\n",
    "    xyz_data = numpy.genfromtxt(fname=filename, skip_header=2,  dtype='unicode')\n",
    "    \n",
    "    symbols = xyz_data[:,0]                 # labels\n",
    "    R = xyz_data[:,1:].astype(numpy.float)  # coordinates\n",
    "    \n",
    "    nat = len(symbols)                      # num of atoms\n",
    "\n",
    "\n",
    "    \n",
    "    f = None\n",
    "    if outfile != None:\n",
    "        f = open(outfile,'w+')   \n",
    "\n",
    "            \n",
    "    for i in range(0,nat):\n",
    "        \n",
    "        start = 0\n",
    "        if remove_duplicates:\n",
    "            start = i+1\n",
    "        \n",
    "        for j in range(start,nat):\n",
    "            \n",
    "            r = compute_dist(R[i,:], R[j,:])                             \n",
    "            res = F'{symbols[i]} to {symbols[j]} : {r:.3f}'\n",
    "            \n",
    "            if r < cutoff and r > 0:\n",
    "                print(res)\n",
    "            \n",
    "            if outfile != None and r < cutoff and r > 0:\n",
    "                f.write(res+\"\\n\")\n",
    "                        \n",
    "\n",
    "    if outfile != None:\n",
    "        f.close()\n",
    "\n",
    "\n",
    "        \n",
    "#================= Run your calculations here ====================   \n",
    "\n",
    "analyze_file(os.path.join('data', 'water.xyz'), remove_duplicates=False, cutoff = 2.0, outfile=\"BL.txt\" )\n"
   ]
  },
  {
   "cell_type": "code",
   "execution_count": null,
   "metadata": {},
   "outputs": [],
   "source": []
  }
 ],
 "metadata": {
  "kernelspec": {
   "display_name": "Python 3",
   "language": "python",
   "name": "python3"
  },
  "language_info": {
   "codemirror_mode": {
    "name": "ipython",
    "version": 3
   },
   "file_extension": ".py",
   "mimetype": "text/x-python",
   "name": "python",
   "nbconvert_exporter": "python",
   "pygments_lexer": "ipython3",
   "version": "3.7.3"
  }
 },
 "nbformat": 4,
 "nbformat_minor": 2
}
